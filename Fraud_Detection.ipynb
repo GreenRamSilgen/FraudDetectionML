{
  "nbformat": 4,
  "nbformat_minor": 0,
  "metadata": {
    "colab": {
      "name": "Fraud_Detection",
      "version": "0.3.2",
      "provenance": [],
      "collapsed_sections": [],
      "include_colab_link": true
    },
    "kernelspec": {
      "name": "python3",
      "display_name": "Python 3"
    }
  },
  "cells": [
    {
      "cell_type": "markdown",
      "metadata": {
        "id": "view-in-github",
        "colab_type": "text"
      },
      "source": [
        "<a href=\"https://colab.research.google.com/github/GreenRamSilgen/FraudDetectionML/blob/master/Fraud_Detection.ipynb\" target=\"_parent\"><img src=\"https://colab.research.google.com/assets/colab-badge.svg\" alt=\"Open In Colab\"/></a>"
      ]
    },
    {
      "cell_type": "code",
      "metadata": {
        "id": "5k1NIFkOce-L",
        "colab_type": "code",
        "colab": {}
      },
      "source": [
        "%matplotlib inline\n",
        "import numpy as np\n",
        "import sklearn as sk\n",
        "import pandas as pd\n",
        "import matplotlib.pyplot as plt\n",
        "from sklearn.preprocessing import scale\n",
        "import random\n",
        "\n",
        "from sklearn import linear_model\n",
        "from sklearn.model_selection import train_test_split"
      ],
      "execution_count": 0,
      "outputs": []
    },
    {
      "cell_type": "code",
      "metadata": {
        "id": "hveZcqTzIL3f",
        "colab_type": "code",
        "colab": {
          "base_uri": "https://localhost:8080/",
          "height": 222
        },
        "outputId": "b5a22f14-bb33-4a0b-b870-f7d478d39913"
      },
      "source": [
        "#reading data from csv file\n",
        "df = pd.read_csv('creditcard.csv', low_memory = False)\n",
        "df = df.sample(frac=1).reset_index(drop=True)\n",
        "df.head()"
      ],
      "execution_count": 52,
      "outputs": [
        {
          "output_type": "execute_result",
          "data": {
            "text/html": [
              "<div>\n",
              "<style scoped>\n",
              "    .dataframe tbody tr th:only-of-type {\n",
              "        vertical-align: middle;\n",
              "    }\n",
              "\n",
              "    .dataframe tbody tr th {\n",
              "        vertical-align: top;\n",
              "    }\n",
              "\n",
              "    .dataframe thead th {\n",
              "        text-align: right;\n",
              "    }\n",
              "</style>\n",
              "<table border=\"1\" class=\"dataframe\">\n",
              "  <thead>\n",
              "    <tr style=\"text-align: right;\">\n",
              "      <th></th>\n",
              "      <th>Time</th>\n",
              "      <th>V1</th>\n",
              "      <th>V2</th>\n",
              "      <th>V3</th>\n",
              "      <th>V4</th>\n",
              "      <th>V5</th>\n",
              "      <th>V6</th>\n",
              "      <th>V7</th>\n",
              "      <th>V8</th>\n",
              "      <th>V9</th>\n",
              "      <th>V10</th>\n",
              "      <th>V11</th>\n",
              "      <th>V12</th>\n",
              "      <th>V13</th>\n",
              "      <th>V14</th>\n",
              "      <th>V15</th>\n",
              "      <th>V16</th>\n",
              "      <th>V17</th>\n",
              "      <th>V18</th>\n",
              "      <th>V19</th>\n",
              "      <th>V20</th>\n",
              "      <th>V21</th>\n",
              "      <th>V22</th>\n",
              "      <th>V23</th>\n",
              "      <th>V24</th>\n",
              "      <th>V25</th>\n",
              "      <th>V26</th>\n",
              "      <th>V27</th>\n",
              "      <th>V28</th>\n",
              "      <th>Amount</th>\n",
              "      <th>Class</th>\n",
              "    </tr>\n",
              "  </thead>\n",
              "  <tbody>\n",
              "    <tr>\n",
              "      <th>0</th>\n",
              "      <td>119248.0</td>\n",
              "      <td>0.826235</td>\n",
              "      <td>-2.283091</td>\n",
              "      <td>-1.132924</td>\n",
              "      <td>0.629871</td>\n",
              "      <td>-1.127829</td>\n",
              "      <td>-0.113417</td>\n",
              "      <td>0.192424</td>\n",
              "      <td>-0.039769</td>\n",
              "      <td>1.153061</td>\n",
              "      <td>-0.306414</td>\n",
              "      <td>0.480237</td>\n",
              "      <td>0.587087</td>\n",
              "      <td>-0.773678</td>\n",
              "      <td>0.579754</td>\n",
              "      <td>0.562555</td>\n",
              "      <td>0.645557</td>\n",
              "      <td>-0.972273</td>\n",
              "      <td>0.854573</td>\n",
              "      <td>0.114403</td>\n",
              "      <td>0.935619</td>\n",
              "      <td>0.249270</td>\n",
              "      <td>-0.584603</td>\n",
              "      <td>-0.219322</td>\n",
              "      <td>-0.462386</td>\n",
              "      <td>-0.598833</td>\n",
              "      <td>-0.988591</td>\n",
              "      <td>-0.065194</td>\n",
              "      <td>0.061021</td>\n",
              "      <td>600.00</td>\n",
              "      <td>0</td>\n",
              "    </tr>\n",
              "    <tr>\n",
              "      <th>1</th>\n",
              "      <td>146802.0</td>\n",
              "      <td>1.947477</td>\n",
              "      <td>-0.138674</td>\n",
              "      <td>-1.132377</td>\n",
              "      <td>1.217124</td>\n",
              "      <td>0.662530</td>\n",
              "      <td>0.912398</td>\n",
              "      <td>-0.094829</td>\n",
              "      <td>0.117173</td>\n",
              "      <td>0.685990</td>\n",
              "      <td>0.100729</td>\n",
              "      <td>-0.275592</td>\n",
              "      <td>1.879120</td>\n",
              "      <td>1.233989</td>\n",
              "      <td>-0.391227</td>\n",
              "      <td>-2.457269</td>\n",
              "      <td>-0.486744</td>\n",
              "      <td>-0.455777</td>\n",
              "      <td>-0.343817</td>\n",
              "      <td>0.845010</td>\n",
              "      <td>-0.122046</td>\n",
              "      <td>-0.318765</td>\n",
              "      <td>-0.544951</td>\n",
              "      <td>0.124251</td>\n",
              "      <td>-0.202071</td>\n",
              "      <td>0.193696</td>\n",
              "      <td>-0.819370</td>\n",
              "      <td>0.038970</td>\n",
              "      <td>-0.050195</td>\n",
              "      <td>22.45</td>\n",
              "      <td>0</td>\n",
              "    </tr>\n",
              "    <tr>\n",
              "      <th>2</th>\n",
              "      <td>45262.0</td>\n",
              "      <td>1.217696</td>\n",
              "      <td>0.654598</td>\n",
              "      <td>-0.465048</td>\n",
              "      <td>1.159887</td>\n",
              "      <td>0.288391</td>\n",
              "      <td>-0.735309</td>\n",
              "      <td>0.191397</td>\n",
              "      <td>-0.068371</td>\n",
              "      <td>-0.304169</td>\n",
              "      <td>-0.507584</td>\n",
              "      <td>1.502600</td>\n",
              "      <td>0.380551</td>\n",
              "      <td>-0.245004</td>\n",
              "      <td>-1.127819</td>\n",
              "      <td>0.430317</td>\n",
              "      <td>0.895896</td>\n",
              "      <td>0.533411</td>\n",
              "      <td>1.214383</td>\n",
              "      <td>-0.211186</td>\n",
              "      <td>-0.086447</td>\n",
              "      <td>-0.039429</td>\n",
              "      <td>-0.082950</td>\n",
              "      <td>-0.174698</td>\n",
              "      <td>-0.134492</td>\n",
              "      <td>0.699463</td>\n",
              "      <td>-0.323968</td>\n",
              "      <td>0.029965</td>\n",
              "      <td>0.043655</td>\n",
              "      <td>1.00</td>\n",
              "      <td>0</td>\n",
              "    </tr>\n",
              "    <tr>\n",
              "      <th>3</th>\n",
              "      <td>168239.0</td>\n",
              "      <td>-0.263244</td>\n",
              "      <td>1.073597</td>\n",
              "      <td>-0.372183</td>\n",
              "      <td>-0.700505</td>\n",
              "      <td>0.405142</td>\n",
              "      <td>-0.768720</td>\n",
              "      <td>0.674468</td>\n",
              "      <td>0.259485</td>\n",
              "      <td>-0.173259</td>\n",
              "      <td>-0.642749</td>\n",
              "      <td>-1.687388</td>\n",
              "      <td>0.083617</td>\n",
              "      <td>0.224695</td>\n",
              "      <td>0.381835</td>\n",
              "      <td>-0.394494</td>\n",
              "      <td>0.230840</td>\n",
              "      <td>-0.493812</td>\n",
              "      <td>-0.484521</td>\n",
              "      <td>0.169086</td>\n",
              "      <td>-0.101119</td>\n",
              "      <td>-0.257169</td>\n",
              "      <td>-0.707986</td>\n",
              "      <td>0.063482</td>\n",
              "      <td>-0.662962</td>\n",
              "      <td>-0.367567</td>\n",
              "      <td>0.183167</td>\n",
              "      <td>0.117580</td>\n",
              "      <td>0.028278</td>\n",
              "      <td>13.99</td>\n",
              "      <td>0</td>\n",
              "    </tr>\n",
              "    <tr>\n",
              "      <th>4</th>\n",
              "      <td>98980.0</td>\n",
              "      <td>-0.765138</td>\n",
              "      <td>0.881991</td>\n",
              "      <td>0.295979</td>\n",
              "      <td>0.794207</td>\n",
              "      <td>1.993776</td>\n",
              "      <td>-0.299409</td>\n",
              "      <td>1.338975</td>\n",
              "      <td>-0.443814</td>\n",
              "      <td>0.545144</td>\n",
              "      <td>-0.254475</td>\n",
              "      <td>-0.771476</td>\n",
              "      <td>-4.554447</td>\n",
              "      <td>-0.924869</td>\n",
              "      <td>2.430775</td>\n",
              "      <td>0.329802</td>\n",
              "      <td>-0.706653</td>\n",
              "      <td>0.524476</td>\n",
              "      <td>0.596053</td>\n",
              "      <td>0.803710</td>\n",
              "      <td>-0.140470</td>\n",
              "      <td>-0.151249</td>\n",
              "      <td>-0.141213</td>\n",
              "      <td>-0.703712</td>\n",
              "      <td>-0.075817</td>\n",
              "      <td>1.068008</td>\n",
              "      <td>-0.234684</td>\n",
              "      <td>-0.254688</td>\n",
              "      <td>-0.203640</td>\n",
              "      <td>35.84</td>\n",
              "      <td>0</td>\n",
              "    </tr>\n",
              "  </tbody>\n",
              "</table>\n",
              "</div>"
            ],
            "text/plain": [
              "       Time        V1        V2        V3  ...       V27       V28  Amount  Class\n",
              "0  119248.0  0.826235 -2.283091 -1.132924  ... -0.065194  0.061021  600.00      0\n",
              "1  146802.0  1.947477 -0.138674 -1.132377  ...  0.038970 -0.050195   22.45      0\n",
              "2   45262.0  1.217696  0.654598 -0.465048  ...  0.029965  0.043655    1.00      0\n",
              "3  168239.0 -0.263244  1.073597 -0.372183  ...  0.117580  0.028278   13.99      0\n",
              "4   98980.0 -0.765138  0.881991  0.295979  ... -0.254688 -0.203640   35.84      0\n",
              "\n",
              "[5 rows x 31 columns]"
            ]
          },
          "metadata": {
            "tags": []
          },
          "execution_count": 52
        }
      ]
    },
    {
      "cell_type": "code",
      "metadata": {
        "id": "KqrhREBNIiJE",
        "colab_type": "code",
        "colab": {
          "base_uri": "https://localhost:8080/",
          "height": 87
        },
        "outputId": "0293dc00-368c-4a14-8985-90d24cd3c7c8"
      },
      "source": [
        "#splitting fraud and non fraud data.\n",
        "fraud = df.loc[df['Class'] == 1]\n",
        "non_frauds = df.loc[df['Class'] == 0]\n",
        "smashed = [len(fraud), len(non_frauds)]\n",
        "smashed_label = [\"Fraud\", \"Normal\"]"
      ],
      "execution_count": 53,
      "outputs": [
        {
          "output_type": "stream",
          "text": [
            "[492, 284315]\n",
            "['Fraud', 'Normal']\n",
            "492\n",
            "284315\n"
          ],
          "name": "stdout"
        }
      ]
    },
    {
      "cell_type": "code",
      "metadata": {
        "id": "S0RprgjJI9Ww",
        "colab_type": "code",
        "colab": {
          "base_uri": "https://localhost:8080/",
          "height": 379
        },
        "outputId": "212db403-0902-4ec4-83b3-703772838121"
      },
      "source": [
        "#Plotting data\n",
        "#ax = fraud.plot.scatter(x='Amount',y='Class',color='Orange',label='Fraud')\n",
        "#non_frauds.plot.scatter(x='Amount', y='Class', color='Blue', label='Normal',ax=ax)\n",
        "plt.pie(smashed, labels=smashed_label, radius=2, autopct='%0.02f%%', explode=[0,0.5])\n",
        "plt.show()"
      ],
      "execution_count": 54,
      "outputs": [
        {
          "output_type": "display_data",
          "data": {
            "image/png": "[encoded data removed]",
            "text/plain": [
              "<Figure size 432x288 with 1 Axes>"
            ]
          },
          "metadata": {
            "tags": []
          }
        }
      ]
    },
    {
      "cell_type": "code",
      "metadata": {
        "id": "mNb4JN6vJk_D",
        "colab_type": "code",
        "colab": {
          "base_uri": "https://localhost:8080/",
          "height": 89
        },
        "outputId": "5bab82ce-5bb6-4d90-ad75-d70c985aa8cb"
      },
      "source": [
        "x = df.iloc[:,:-1]\n",
        "y = df['Class']\n",
        "\n",
        "X_train, X_test, Y_train, Y_test = train_test_split(x,y,test_size=0.2)\n",
        "\n",
        "logistic = linear_model.LogisticRegression(C=1e5)\n",
        "logistic.fit(X_train, Y_train)\n",
        "print('Score:', logistic.score(X_test, Y_test))"
      ],
      "execution_count": 67,
      "outputs": [
        {
          "output_type": "stream",
          "text": [
            "/usr/local/lib/python3.6/dist-packages/sklearn/linear_model/logistic.py:432: FutureWarning: Default solver will be changed to 'lbfgs' in 0.22. Specify a solver to silence this warning.\n",
            "  FutureWarning)\n"
          ],
          "name": "stderr"
        },
        {
          "output_type": "stream",
          "text": [
            "Score: 0.9987711105649381\n"
          ],
          "name": "stdout"
        }
      ]
    }
  ]
}